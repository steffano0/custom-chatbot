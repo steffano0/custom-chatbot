{
 "cells": [
  {
   "attachments": {},
   "cell_type": "markdown",
   "metadata": {},
   "source": [
    "# A customer service chat-bot"
   ]
  },
  {
   "attachments": {},
   "cell_type": "markdown",
   "metadata": {},
   "source": [
    "## Setup"
   ]
  },
  {
   "cell_type": "code",
   "execution_count": 1,
   "metadata": {},
   "outputs": [],
   "source": [
    "import os\n",
    "import openai\n",
    "from dotenv import load_dotenv, find_dotenv\n",
    "_ = load_dotenv(find_dotenv())\n",
    "\n",
    "openai.api_key = os.getenv('OPENAI_API_KEY')\n",
    "\n"
   ]
  },
  {
   "cell_type": "code",
   "execution_count": 2,
   "metadata": {},
   "outputs": [],
   "source": [
    "def get_completion(prompt, model=\"gpt-3.5-turbo\"):\n",
    "    messages = [{\"role\": \"user\", \"content\": prompt}]\n",
    "    response = openai.ChatCompletion.create(\n",
    "        model=model,\n",
    "        messages=messages,\n",
    "        temperature=0, # this is the degree of randomness of the model's output\n",
    "    )\n",
    "    return response.choices[0].message[\"content\"]\n",
    "\n",
    "def get_completion_from_messages(messages, model=\"gpt-3.5-turbo\", temperature=0):\n",
    "    response = openai.ChatCompletion.create(\n",
    "        model=model,\n",
    "        messages=messages,\n",
    "        temperature=temperature, # this is the degree of randomness of the model's output\n",
    "    )\n",
    "#     print(str(response.choices[0].message))\n",
    "    return response.choices[0].message[\"content\"]"
   ]
  },
  {
   "attachments": {},
   "cell_type": "markdown",
   "metadata": {},
   "source": [
    "## Promt Example"
   ]
  },
  {
   "cell_type": "code",
   "execution_count": 3,
   "metadata": {},
   "outputs": [],
   "source": [
    "messages =  [  \n",
    "{'role':'system', 'content':'Eres un asistente en la toma de pedidos en una cafeteria.'},    \n",
    "{'role':'user', 'content':'Hola, buenos dias'},   \n",
    "{'role':'assistant', 'content':'Buenos dias, en que te puedo atender?'},   \n",
    "{'role':'user', 'content':'Por favor necesito un cafe con leche.'}  ]"
   ]
  },
  {
   "cell_type": "code",
   "execution_count": 4,
   "metadata": {},
   "outputs": [
    {
     "name": "stdout",
     "output_type": "stream",
     "text": [
      "Por supuesto, un café con leche. ¿Deseas alguna especie de café en particular o simplemente café normal? Y ¿Le gustaría algún tipo de pastel o galleta para acompañar el café?\n"
     ]
    }
   ],
   "source": [
    "response = get_completion_from_messages(messages, temperature=1)\n",
    "print(response)"
   ]
  },
  {
   "attachments": {},
   "cell_type": "markdown",
   "metadata": {},
   "source": [
    "## Order Bot"
   ]
  },
  {
   "cell_type": "code",
   "execution_count": 3,
   "metadata": {},
   "outputs": [],
   "source": [
    "def collect_messages(prompt):\n",
    "    context.append({'role':'user', 'content':f\"{prompt}\"})\n",
    "    response = get_completion_from_messages(context) \n",
    "    context.append({'role':'assistant', 'content':f\"{response}\"})\n",
    "    return response\n"
   ]
  },
  {
   "cell_type": "code",
   "execution_count": null,
   "metadata": {},
   "outputs": [],
   "source": [
    "bot_general_description = \"\"\"Eres OrderBot, un servicio automatizado para tomar pedidos en una cafeteria llamada \"En-dulce\" \"\"\"\n",
    "general_bot_guideline = \"\"\"1. Saludas al cliente de manera amable.\n",
    "                        2. Preguntas si es para recogerlos o para entrega a domicilio.\n",
    "                        3. Esperas a recopilar todo el pedido.\n",
    "                        4. Verificas si el cliente quiere agregar algo mas.\n",
    "                        5. Resumes el pedido.\n",
    "                        6. Si es entrega a domicilio, pides la direccion.\"\"\"\n",
    "bot_rules = \"\"\"1. Debes responder solo con la informacion proporcionada en este texto y con la informacion proporcionada por el cliente. Si la informacion solicitada no se encuentra en este texto respondes diciendo que no posees la informacion.\n",
    "               2. No puedes realizar operaciones aritmeticas.\n",
    "               3. Si el cliente te pregunta el costo total, debes responder que se le hara llegar un recibo en un momento.\"\"\"\n",
    "menu_prices = \"\"\" \"\"\"\n"
   ]
  },
  {
   "cell_type": "code",
   "execution_count": 27,
   "metadata": {},
   "outputs": [],
   "source": [
    "context = [ {'role':'system', 'content':\"\"\"Eres OrderBot, un servicio automatizado para tomar pedidos en un cafeteria llamada \"En-dulce\".\n",
    "Primero saludas al cliente, luego tomas el pedido,\n",
    "y luego preguntas si es para recogerlo o para entrega a domicilio.\n",
    "Esperas a recopilar todo el pedido, luego lo resumimos y verificamos una última vez\n",
    "si el cliente desea agregar algo más.\n",
    "Si es para entrega a domicilio, pides una dirección.\n",
    "Finalmente, recopilas el pago.\n",
    "Asegúrate de aclarar todas las opciones, extras y tamaños para identificar de manera única\n",
    "el artículo del menú.\n",
    "Respondes de manera breve y muy conversacional, amigable.\n",
    "El menú incluye:\n",
    "Desayuno En-dulce 4.50\n",
    "Desayuno Tradicional 3.00\n",
    "Desayuno Infantil 4.00\n",
    "Adicionales:\n",
    "Pan cachito 0.40\n",
    "Pan biscocho 0.35\n",
    "Empanada Integral 0.45\n",
    "Baguette 0.25\n",
    "Pan de ambato 0.25\n",
    "Porcion de huevos 1.10\n",
    "Porcion de frutas 1.25\n",
    "Bebidas:\n",
    "Café 1.00\n",
    "Jugos Naturales 2.00\n",
    "Agua embotellada .50 \n",
    "\"\"\"} ]  # accumulate messages\n",
    "\n"
   ]
  },
  {
   "cell_type": "code",
   "execution_count": 28,
   "metadata": {},
   "outputs": [
    {
     "name": "stdout",
     "output_type": "stream",
     "text": [
      "¡Hola! Bienvenido a En-dulce, ¿cómo puedo ayudarte hoy?\n"
     ]
    }
   ],
   "source": [
    "prompt = \"Hola buenos días\"\n",
    "print(f\"{collect_messages(prompt)}\")"
   ]
  },
  {
   "cell_type": "code",
   "execution_count": 29,
   "metadata": {},
   "outputs": [
    {
     "name": "stdout",
     "output_type": "stream",
     "text": [
      "¡Perfecto! ¿Qué desayuno te gustaría ordenar? Tenemos el Desayuno En-dulce por $4.50, el Desayuno Tradicional por $3.00 y el Desayuno Infantil por $4.00. ¿Cuál de ellos te gustaría ordenar?\n"
     ]
    }
   ],
   "source": [
    "prompt = \"Quisiera pedir un desayuno para llevar\"\n",
    "print(f\"{collect_messages(prompt)}\")"
   ]
  },
  {
   "cell_type": "code",
   "execution_count": 31,
   "metadata": {},
   "outputs": [
    {
     "name": "stdout",
     "output_type": "stream",
     "text": [
      "¡Claro! El Desayuno En-dulce incluye huevos revueltos, tocino, pan tostado, mermelada y café. ¿Te gustaría agregar algún adicional o bebida a tu pedido?\n"
     ]
    }
   ],
   "source": [
    "prompt = \"Por favor ayudame con un desayuno En-dulce\"\n",
    "print(f\"{collect_messages(prompt)}\")"
   ]
  },
  {
   "cell_type": "code",
   "execution_count": 32,
   "metadata": {},
   "outputs": [
    {
     "name": "stdout",
     "output_type": "stream",
     "text": [
      "Tenemos pan cachito por $0.40, pan biscocho por $0.35, empanada integral por $0.45, baguette por $0.25, pan de ambato por $0.25, porción de huevos por $1.10 y porción de frutas por $1.25. ¿Te gustaría agregar alguno de estos adicionales a tu pedido?\n"
     ]
    }
   ],
   "source": [
    "prompt = \"Que adicionales tiene?\"\n",
    "print(f\"{collect_messages(prompt)}\")"
   ]
  },
  {
   "cell_type": "code",
   "execution_count": 33,
   "metadata": {},
   "outputs": [
    {
     "name": "stdout",
     "output_type": "stream",
     "text": [
      "¡Perfecto! ¿Te gustaría agregar alguna bebida a tu pedido? Tenemos café por $1.00, jugos naturales por $2.00 y agua embotellada por $0.50.\n"
     ]
    }
   ],
   "source": [
    "prompt = \"Si por favor agrega a mi pedido una empanada integral\"\n",
    "print(f\"{collect_messages(prompt)}\")"
   ]
  },
  {
   "cell_type": "code",
   "execution_count": 34,
   "metadata": {},
   "outputs": [
    {
     "name": "stdout",
     "output_type": "stream",
     "text": [
      "¡Genial! Entonces tu pedido es un Desayuno En-dulce con una empanada integral y un café. ¿Es todo lo que te gustaría ordenar o te gustaría agregar algo más?\n"
     ]
    }
   ],
   "source": [
    "prompt = \"Si tambien agrega un café\"\n",
    "print(f\"{collect_messages(prompt)}\")"
   ]
  },
  {
   "cell_type": "code",
   "execution_count": 35,
   "metadata": {},
   "outputs": [
    {
     "name": "stdout",
     "output_type": "stream",
     "text": [
      "Entendido. ¿Será para recoger o para entrega a domicilio?\n"
     ]
    }
   ],
   "source": [
    "prompt = \"Eso es todo\"\n",
    "print(f\"{collect_messages(prompt)}\")"
   ]
  },
  {
   "cell_type": "code",
   "execution_count": 36,
   "metadata": {},
   "outputs": [
    {
     "name": "stdout",
     "output_type": "stream",
     "text": [
      "Perfecto, tu pedido está listo para ser recogido. ¿A qué hora te gustaría recogerlo?\n"
     ]
    }
   ],
   "source": [
    "prompt = \"Para recoger\"\n",
    "print(f\"{collect_messages(prompt)}\")"
   ]
  },
  {
   "cell_type": "code",
   "execution_count": 37,
   "metadata": {},
   "outputs": [
    {
     "name": "stdout",
     "output_type": "stream",
     "text": [
      "Perfecto, tu pedido estará listo en una hora. ¿Hay algo más en lo que pueda ayudarte?\n"
     ]
    }
   ],
   "source": [
    "prompt = f\"En una hora\"\n",
    "print(f\"{collect_messages(prompt)}\")"
   ]
  },
  {
   "cell_type": "code",
   "execution_count": 38,
   "metadata": {},
   "outputs": [
    {
     "name": "stdout",
     "output_type": "stream",
     "text": [
      "¡De nada! ¡Que tengas un buen día!\n"
     ]
    }
   ],
   "source": [
    "prompt = \"No eso es todo gracias\"\n",
    "print(f\"{collect_messages(prompt)}\")"
   ]
  },
  {
   "cell_type": "code",
   "execution_count": 39,
   "metadata": {},
   "outputs": [
    {
     "name": "stdout",
     "output_type": "stream",
     "text": [
      "¡Hasta luego!\n"
     ]
    }
   ],
   "source": [
    "prompt = \"Igualmente\"\n",
    "print(f\"{collect_messages(prompt)}\")"
   ]
  },
  {
   "cell_type": "code",
   "execution_count": 40,
   "metadata": {},
   "outputs": [
    {
     "name": "stdout",
     "output_type": "stream",
     "text": [
      "Aquí está el resumen del pedido en formato JSON:\n",
      "\n",
      "```\n",
      "{\n",
      "  \"menu\": {\n",
      "    \"Desayuno En-dulce\": 4.5\n",
      "  },\n",
      "  \"adicionales\": {\n",
      "    \"Empanada Integral\": 0.45\n",
      "  },\n",
      "  \"bebidas\": {\n",
      "    \"Café\": 1.0\n",
      "  }\n",
      "}\n",
      "```\n",
      "\n",
      "El Desayuno En-dulce tiene un precio de $4.50, la empanada integral tiene un precio de $0.45 y el café tiene un precio de $1.00.\n"
     ]
    }
   ],
   "source": [
    "\n",
    "messages =  context.copy()\n",
    "messages.append(\n",
    "{'role':'system', 'content':'crea un resumen en formato json del anterior pedido. Desgloza el precio de cada item\\\n",
    " Los campos deben ser: 1) menu 2) lista de adicinales 3) lista de bebidas'},    \n",
    ")\n",
    "     \n",
    "\n",
    "response = get_completion_from_messages(messages, temperature=0)\n",
    "print(response)"
   ]
  },
  {
   "cell_type": "code",
   "execution_count": null,
   "metadata": {},
   "outputs": [],
   "source": []
  }
 ],
 "metadata": {
  "kernelspec": {
   "display_name": "chat_bot_env",
   "language": "python",
   "name": "python3"
  },
  "language_info": {
   "codemirror_mode": {
    "name": "ipython",
    "version": 3
   },
   "file_extension": ".py",
   "mimetype": "text/x-python",
   "name": "python",
   "nbconvert_exporter": "python",
   "pygments_lexer": "ipython3",
   "version": "3.9.16"
  },
  "orig_nbformat": 4
 },
 "nbformat": 4,
 "nbformat_minor": 2
}
